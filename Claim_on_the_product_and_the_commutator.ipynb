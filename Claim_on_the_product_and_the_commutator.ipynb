{
  "cells": [
    {
      "cell_type": "markdown",
      "metadata": {
        "id": "view-in-github",
        "colab_type": "text"
      },
      "source": [
        "<a href=\"https://colab.research.google.com/github/Slimkammounmath/Words-of-conjugation-invaraint-permutations/blob/main/Claim_on_the_product_and_the_commutator.ipynb\" target=\"_parent\"><img src=\"https://colab.research.google.com/assets/colab-badge.svg\" alt=\"Open In Colab\"/></a>"
      ]
    },
    {
      "cell_type": "markdown",
      "source": [
        "#Assumtions / model"
      ],
      "metadata": {
        "id": "OJ65_PplJ6P7"
      }
    },
    {
      "cell_type": "markdown",
      "metadata": {
        "id": "KwIOKefwkd0W"
      },
      "source": [
        "We want to simulate an approximation of the law of the number of fixed points of  $\\sigma_n\\rho_n$ and of $[\\sigma_n,\\rho_n]$ when :  \n",
        "\n",
        "*   $\\#_1 (\\sigma_n) \\sim  \\alpha_1\\sqrt{n}$\n",
        "\n",
        "*   $\\#_1 (\\rho_n) \\sim  \\alpha_2\\sqrt{n}$\n",
        "\n",
        "\n",
        "*   $\\#_2 (\\sigma_n) \\sim  \\beta_1{n}$\n",
        "\n",
        "*   $\\#_2 (\\rho_n) \\sim  \\beta_1{n}$\n",
        "\n",
        "Here $\\#_1$ is the number of fixed points and $\\#_2$ is the number of two cycles.\n",
        "\n",
        "\n",
        "We genererate  a conjugacy invariant permutation with a number of fixed points following  Binomial variable with parameters  $\\alpha_i/\\sqrt{n}$ and  $n$. Given the number of fixed points, the  number of two-cycles follows the law of  $int(binomial(2\\beta_i,n- \\#_1(\\sigma))/2)$. Finally, $\\sigma_n$ have at most one cycle of length >2 \n",
        "( its lengths is exactyly  $n-\\#_1(\\sigma_n)-2\\#_2(\\sigma_n)$).\n",
        "\n",
        "\n",
        "We present different cases :\n",
        "\n",
        "\n",
        "1.   Product with all parameters equal to 0.  We proved this case in [[KM2020]](https://projecteuclid.org/journals/electronic-communications-in-probability/volume-25/issue-none/A-product-of-invariant-random-permutations-has-the-same-small/10.1214/20-ECP334.full)\n",
        "2.   The class of the product of two i.i.d fixed point free involutions. The limiting of the number of cycles of length i seem to be 2Poisson(1/2i)\n",
        "3.   The commutator with all parameters equal to 0.  We proved this case in [[KM2022]](https://arxiv.org/abs/2204.04759)\n",
        "4.   The general case for the product\n",
        "5.   The commutator when $\\alpha_2=\\beta_2=0$.\n",
        "\n",
        "\n",
        "\n"
      ]
    },
    {
      "cell_type": "markdown",
      "source": [
        "# Parameters : \n"
      ],
      "metadata": {
        "id": "FFn_HHlRKrVl"
      }
    },
    {
      "cell_type": "code",
      "source": [
        "n=10000 # The size of the permutation\n",
        "N=2000 # the number of simples"
      ],
      "metadata": {
        "id": "vkCNORuAK1pB"
      },
      "execution_count": 1,
      "outputs": []
    },
    {
      "cell_type": "markdown",
      "metadata": {
        "id": "0YI4o8_-bn6K"
      },
      "source": [
        "# Generate permutations (one can hide this section)"
      ]
    },
    {
      "cell_type": "markdown",
      "metadata": {
        "id": "DNmtcdT7m6ag"
      },
      "source": [
        "Step 1: generate the permutations"
      ]
    },
    {
      "cell_type": "code",
      "execution_count": 2,
      "metadata": {
        "id": "WUQw218Kj8E0"
      },
      "outputs": [],
      "source": [
        "import numpy as np\n",
        "from matplotlib import pyplot\n",
        "\n",
        "\n",
        "\n",
        "def perm(alpha,beta): \n",
        "  # choose the set of fixed points\n",
        "  fixed=[]\n",
        "  two_cycles=[]   # a list that contains the points that will be in a two cycles\n",
        "  complement=[]\n",
        "  fixed_points_boolean=np.random.binomial(1, alpha/np.sqrt(n), size=n)  # the number of fixed points ~ Bin (alpha/np.sqrt(n), n)  \n",
        "  Q=np.random.binomial(1, 2*beta, size=n)    # here Q[i]=1 if sigma^2(i)=i\n",
        "\n",
        "  for i in range(n):\n",
        "     if fixed_points_boolean[i]==1:\n",
        "        fixed.append(i)\n",
        "     elif Q[i]==1:   # the number of two cycles ~ int(Bin(2 beta, n - #1)/2)\n",
        "        two_cycles.append(i)   \n",
        "     else: \n",
        "        complement.append(i)\n",
        "  if len(two_cycles)%2==1: \n",
        "    random_position= np.random.randint(len(two_cycles))\n",
        "    complement.append(two_cycles[random_position])   \n",
        "    np.delete(two_cycles,random_position)\n",
        "  two_cycles=np.random.permutation(two_cycles)\n",
        "  complement=np.random.permutation(complement)\n",
        "  ## construct permutation : \n",
        "  final_perm=np.zeros(n)\n",
        "  final_inverse=np.zeros(n)\n",
        "\n",
        "  for i in fixed:\n",
        "    final_perm[i]=i\n",
        "    final_inverse[i]=i\n",
        "\n",
        "  for i in range(int(len(two_cycles)/2)):\n",
        "    final_perm[two_cycles[2*i]]=two_cycles[2*i+1]\n",
        "    final_perm[two_cycles[2*i+1]]=two_cycles[2*i]\n",
        "    final_inverse[two_cycles[2*i]]=two_cycles[2*i+1]\n",
        "    final_inverse[two_cycles[2*i+1]]=two_cycles[2*i]\n",
        "    \n",
        "  for i in range(len(complement)-1):\n",
        "    final_perm[complement[i]]= complement[i+1]\n",
        "    final_inverse[complement[i+1]]= complement[i]\n",
        "    \n",
        "  if len(complement)>0:\n",
        "    final_perm[complement[-1]]=complement[0]\n",
        "    final_inverse[complement[0]]=complement[-1]\n",
        "\n",
        "\n",
        "  return([final_perm.astype(int),final_inverse.astype(int)])\n",
        "\n"
      ]
    },
    {
      "cell_type": "code",
      "execution_count": 3,
      "metadata": {
        "id": "nfr2kzppu3zS"
      },
      "outputs": [],
      "source": [
        "def generate_product(alpha,beta,alpha_prime,beta_prime):\n",
        "    sigma=perm(alpha,beta)[0]\n",
        "    rho=perm(alpha_prime,beta_prime)[0]\n",
        "    product=[sigma[rho[i]] for i in range(n)]\n",
        "    fixed_points=0\n",
        "    two_cycles=0\n",
        "    three_cycles=0\n",
        "    for i in range(n):\n",
        "      if product[i]==i:\n",
        "        fixed_points+=1\n",
        "      elif product[product[i]]==i:\n",
        "        two_cycles+=0.5\n",
        "      elif product[product[product[i]]]==i:\n",
        "        three_cycles+=1.0/3\n",
        "    return(n,fixed_points,two_cycles,round(three_cycles))\n",
        "\n",
        "def generate_commutator(alpha,beta,alpha_prime,beta_prime):\n",
        "    [sigma,sigma_inv]=perm(alpha,beta)\n",
        "    [rho,rho_inv]=perm(alpha_prime,beta_prime)\n",
        "    ## for test\n",
        " ##   print([sigma[sigma_inv[i]] for i in range(n)])\n",
        "    commutator=[sigma[rho[sigma_inv[rho_inv[i]]]] for i in range(n)]\n",
        "    fixed_points=0\n",
        "    two_cycles=0\n",
        "    three_cycles=0\n",
        "    for i in range(n):\n",
        "      if commutator[i]==i:\n",
        "        fixed_points+=1\n",
        "      elif commutator[commutator[i]]==i:\n",
        "        two_cycles+=0.5\n",
        "      elif commutator[commutator[commutator[i]]]==i:              \n",
        "        three_cycles+=1.0/3\n",
        "    return(commutator,fixed_points,two_cycles,round(three_cycles))\n"
      ]
    },
    {
      "cell_type": "markdown",
      "source": [
        "# First case : product ($\\alpha_1=\\beta_1=\\alpha_2=\\beta_2=0$)"
      ],
      "metadata": {
        "id": "dneRRKH0Svya"
      }
    },
    {
      "cell_type": "code",
      "execution_count": 4,
      "metadata": {
        "id": "bCMbMRfNxKg_"
      },
      "outputs": [],
      "source": [
        "product_list=[generate_product(0,0,0,0) for i in range(N)]\n",
        "fixed_points_series=[]\n",
        "two_cycles_series=[]\n",
        "three_cycles_series=[]\n",
        "\n",
        "for product in product_list: \n",
        "  fixed_points_series.append(product[1])\n",
        "  two_cycles_series.append(product[2])\n",
        "  three_cycles_series.append(product[3])\n"
      ]
    },
    {
      "cell_type": "code",
      "execution_count": 5,
      "metadata": {
        "colab": {
          "base_uri": "https://localhost:8080/",
          "height": 763
        },
        "id": "DrHPeg6C5DTJ",
        "outputId": "fca06c6d-2a7f-4179-8550-f9c4545f1978"
      },
      "outputs": [
        {
          "output_type": "display_data",
          "data": {
            "text/plain": [
              "<Figure size 432x288 with 1 Axes>"
            ],
            "image/png": "[encoded data removed]"
          },
          "metadata": {
            "needs_background": "light"
          }
        },
        {
          "output_type": "display_data",
          "data": {
            "text/plain": [
              "<Figure size 432x288 with 1 Axes>"
            ],
            "image/png": "[encoded data removed]"
          },
          "metadata": {
            "needs_background": "light"
          }
        },
        {
          "output_type": "display_data",
          "data": {
            "text/plain": [
              "<Figure size 432x288 with 1 Axes>"
            ],
            "image/png": "[encoded data removed]"
          },
          "metadata": {
            "needs_background": "light"
          }
        }
      ],
      "source": [
        "\n",
        "\n",
        "pyplot.hist(fixed_points_series, range = (0, 5), bins = 5,density=True,color=\"red\",edgecolor=\"red\",label=\"simulating Fixed points\")\n",
        "pyplot.step([0,1,2,3,4,5], [0,np.exp(-1),np.exp(-1),np.exp(-1)*1.0/2,np.exp(-1)*1.0/6,np.exp(-1)*1.0/24], where='pre',label=\"Poisson(1)\")\n",
        "pyplot.legend()\n",
        "pyplot.show()\n",
        "\n",
        "\n",
        "\n",
        "pyplot.hist(two_cycles_series, range = (0, 5), bins = 5,density=True,color=\"red\",edgecolor=\"red\",label=\"simulating two cycles \")\n",
        "pyplot.step([0,1,2,3,4,5], [0]+[0.5**i/(np.math.factorial(i)*np.exp(0.5) ) for i in range(5)], where='pre',label=\"Poisson(0.5)\")\n",
        "\n",
        "pyplot.legend()\n",
        "pyplot.show()\n",
        "\n",
        "\n",
        "pyplot.hist(three_cycles_series, range = (0, 5), bins = 5,density=True,color=\"red\",edgecolor=\"red\",label=\"simulating three cycles\")\n",
        "pyplot.step([0,1,2,3,4,5], [0]+[1.0/(3**i)/(np.math.factorial(i)*np.exp(1.0/3) ) for i in range(5)], where='pre',label=\"Poisson(1/3)\")\n",
        "\n",
        "pyplot.legend()\n",
        "pyplot.show()\n"
      ]
    },
    {
      "cell_type": "markdown",
      "metadata": {
        "id": "EsDW4NvLVSxT"
      },
      "source": []
    },
    {
      "cell_type": "markdown",
      "metadata": {
        "id": "1HgVRr8DUyl5"
      },
      "source": [
        "# Second  Case Product : $\\alpha=0;\\beta=0.5$ (Fixed points ~ 2Poisson(1/2))\n"
      ]
    },
    {
      "cell_type": "code",
      "execution_count": 6,
      "metadata": {
        "id": "lkr2yFFH9gvb"
      },
      "outputs": [],
      "source": [
        "product_list=[generate_product(0,0.5,0,0.5) for i in range(N)]\n",
        "fixed_points_series=[]\n",
        "two_cycles_series=[]\n",
        "three_cycles_series=[]\n",
        "\n",
        "for product in product_list: \n",
        "  fixed_points_series.append(product[1])\n",
        "  two_cycles_series.append(product[2])\n",
        "  three_cycles_series.append(product[3])"
      ]
    },
    {
      "cell_type": "markdown",
      "metadata": {
        "id": "3xiFA5T2ffpb"
      },
      "source": []
    },
    {
      "cell_type": "code",
      "execution_count": 7,
      "metadata": {
        "colab": {
          "base_uri": "https://localhost:8080/",
          "height": 778
        },
        "id": "vgpQkbRa-aE5",
        "outputId": "1deb914c-2096-4dcf-807a-15942067fef8"
      },
      "outputs": [
        {
          "output_type": "display_data",
          "data": {
            "text/plain": [
              "<Figure size 432x288 with 1 Axes>"
            ],
            "image/png": "[encoded data removed]"
          },
          "metadata": {
            "needs_background": "light"
          }
        },
        {
          "output_type": "display_data",
          "data": {
            "text/plain": [
              "<Figure size 432x288 with 1 Axes>"
            ],
            "image/png": "[encoded data removed]"
          },
          "metadata": {
            "needs_background": "light"
          }
        },
        {
          "output_type": "display_data",
          "data": {
            "text/plain": [
              "<Figure size 432x288 with 1 Axes>"
            ],
            "image/png": "[encoded data removed]"
          },
          "metadata": {
            "needs_background": "light"
          }
        },
        {
          "output_type": "execute_result",
          "data": {
            "text/plain": [
              "2000"
            ]
          },
          "metadata": {},
          "execution_count": 7
        }
      ],
      "source": [
        "from matplotlib import pyplot\n",
        "#pyplot.hist(fixed_points_series, range = (0, 7), bins = 7,density=True,color=\"red\",edgecolor=\"red\",label=\"simulating\")\n",
        "\n",
        "#pyplot.show()\n",
        "fixed_points_series=np.array(fixed_points_series)/2.0\n",
        "pyplot.hist(fixed_points_series, range = (0, 7), bins = 7,density=True,color=\"red\",edgecolor=\"red\",label=\"fixed_points/2\")\n",
        "pyplot.step([0,1,2,3,4,5], [0]+[0.5**i/(np.math.factorial(i)*np.exp(0.5) ) for i in range(5)], where='pre',label=\"Poisson(0.5)\")\n",
        "pyplot.legend()\n",
        "\n",
        "pyplot.show()\n",
        "\n",
        "\n",
        "#pyplot.hist(two_cycles_series, range = (0, 7), bins = 7,density=True,color=\"red\",edgecolor=\"red\",label=\"simulating\")\n",
        "#pyplot.legend()\n",
        "#pyplot.show()\n",
        "\n",
        "two_cycles_series=np.array(two_cycles_series)/2.0\n",
        "pyplot.hist(two_cycles_series, range = (0, 7), bins = 7,density=True,color=\"red\",edgecolor=\"red\",label=\"two_cyles/2\")\n",
        "pyplot.step([0,1,2,3,4,5], [0]+[0.25**i/(np.math.factorial(i)*np.exp(0.25) ) for i in range(5)], where='pre',label=\"Poisson(0.25)\")\n",
        "pyplot.legend()\n",
        "\n",
        "pyplot.show()\n",
        "\n",
        "#pyplot.hist(three_cycles_series, range = (0, 7), bins = 7,density=True,color=\"red\",edgecolor=\"red\",label=\"simulating\")\n",
        "\n",
        "#pyplot.show()\n",
        "three_cycles_series=np.array(three_cycles_series)/2.0\n",
        "pyplot.hist(three_cycles_series, range = (0, 7), bins = 7,density=True,color=\"red\",edgecolor=\"red\",label=\"three_cycles/2\")\n",
        "pyplot.step([0,1,2,3,4,5], [0]+[1.0/6**i/(np.math.factorial(i)*np.exp(1.0/6) ) for i in range(5)], where='pre',label=\"Poisson(1/6)\")\n",
        "pyplot.legend()\n",
        "\n",
        "pyplot.show()\n",
        "\n",
        "len(three_cycles_series)"
      ]
    },
    {
      "cell_type": "markdown",
      "metadata": {
        "id": "EeQej7NIVVZO"
      },
      "source": [
        "# Third case : commutator $\\alpha=\\beta=0$ (fixed points Poisson(1))\n"
      ]
    },
    {
      "cell_type": "code",
      "execution_count": 8,
      "metadata": {
        "colab": {
          "base_uri": "https://localhost:8080/",
          "height": 513
        },
        "id": "Q57ncIjCV5iM",
        "outputId": "81ff15a3-c4fa-4588-8355-6b1e125914b7"
      },
      "outputs": [
        {
          "output_type": "display_data",
          "data": {
            "text/plain": [
              "<Figure size 432x288 with 1 Axes>"
            ],
            "image/png": "[encoded data removed]"
          },
          "metadata": {
            "needs_background": "light"
          }
        },
        {
          "output_type": "display_data",
          "data": {
            "text/plain": [
              "<Figure size 432x288 with 1 Axes>"
            ],
            "image/png": "[encoded data removed]"
          },
          "metadata": {
            "needs_background": "light"
          }
        }
      ],
      "source": [
        "fixed_points_series=[generate_commutator(0,0,0,0)[1] for i in range(N)]\n",
        "two_cycles_series=[generate_commutator(0,0,0,0)[2] for i in range(N)]\n",
        "\n",
        "\n",
        "pyplot.hist(fixed_points_series, range = (0, 5), bins = 5,density=True,color=\"red\",edgecolor=\"red\",label=\"simulating\")\n",
        "pyplot.step([0,1,2,3,4,5], [0,np.exp(-1),np.exp(-1),np.exp(-1)*1.0/2,np.exp(-1)*1.0/6,np.exp(-1)*1.0/24], where='pre',label=\"Poisson(1)\")\n",
        "pyplot.legend()\n",
        "pyplot.show()\n",
        "#pyplot.hist(fixed_points_series, range = (0, 5), bins = 5,density=True,cumulative=True,color=\"red\",edgecolor=\"red\",label=\"simulating\")\n",
        "#pyplot.step([0,1,2,3,4,5], [0,np.exp(-1),np.exp(-1)*(1+1),np.exp(-1)*(1+1+1.0/2),np.exp(-1)*(1+1+1.0/2+1.0/6),np.exp(-1)*(1+1+1.0/2+1.0/6+1.0/24)], where='pre',label=\"Poisson(1)\")\n",
        "pyplot.show()\n",
        "\n",
        "\n",
        "pyplot.hist(two_cycles_series, range = (0, 7), bins = 7,density=True,color=\"red\",edgecolor=\"red\",label=\"simulating\")\n",
        "pyplot.step([0,1,2,3,4,5], [0]+[0.5**i/(np.math.factorial(i)*np.exp(0.5) ) for i in range(5)], where='pre',label=\"Poisson(0.5)\")\n",
        "pyplot.legend()\n",
        "\n",
        "pyplot.show()"
      ]
    },
    {
      "cell_type": "markdown",
      "metadata": {
        "id": "y1tgh9pOBb8P"
      },
      "source": [
        "#Forth case : Product (general case)"
      ]
    },
    {
      "cell_type": "code",
      "execution_count": 9,
      "metadata": {
        "id": "ep_bBlrgtb_r"
      },
      "outputs": [],
      "source": [
        "alpha1 = 0.75\n",
        "alpha2= 1\n",
        "beta1=0.3\n",
        "beta2=0.4\n",
        "product_list=[]\n",
        "fixed_points_series=[generate_product(alpha1,beta1,alpha2,beta2)[1] for i in range(N)]\n",
        "\n",
        "a= alpha1*alpha2 + (1-4*beta1*beta2)\n",
        "b= 2*beta1*beta2\n",
        "New_law=[2*np.random.poisson(b)+np.random.poisson(a) for i in range(1000000)]"
      ]
    },
    {
      "cell_type": "code",
      "execution_count": 10,
      "metadata": {
        "colab": {
          "base_uri": "https://localhost:8080/",
          "height": 265
        },
        "id": "VP_DuB3Z54G0",
        "outputId": "fbb11040-33c9-4f3b-fa64-c71a36f0eb22"
      },
      "outputs": [
        {
          "output_type": "display_data",
          "data": {
            "text/plain": [
              "<Figure size 432x288 with 1 Axes>"
            ],
            "image/png": "[encoded data removed]"
          },
          "metadata": {
            "needs_background": "light"
          }
        }
      ],
      "source": [
        "m=max(fixed_points_series)\n",
        "pyplot.hist(fixed_points_series, range = (0, m), bins = m,density=True,color=\"red\",edgecolor=\"red\",label=\"Simulating\")\n",
        "pyplot.hist(New_law, range = (0, m), bins = m,density=True,color=\"white\",edgecolor=\"blue\",label=r'$2*Poi(2\\beta\\beta^\\prime)+Poi(\\alpha*\\alpha^\\prime + (1-4*\\beta*\\beta^\\prime))$',alpha=0.8)\n",
        "\n",
        "pyplot.legend()\n",
        "pyplot.show()\n"
      ]
    },
    {
      "cell_type": "markdown",
      "source": [
        "#Fifth case : Commutator (alpha_2=beta_2=0)"
      ],
      "metadata": {
        "id": "tWQ69C7LXCIq"
      }
    },
    {
      "cell_type": "code",
      "source": [
        "alpha1 = 0.75\n",
        "alpha2= 0\n",
        "beta1=0.2\n",
        "beta2=0\n",
        "product_list=[]\n",
        "fixed_points_series=[generate_commutator(alpha1,beta1,alpha2,beta2)[1] for i in range(N)]\n",
        "\n",
        "a= alpha1**2 + (1-4*beta1**2)\n",
        "b= 2*beta1**2\n",
        "New_law=[2*np.random.poisson(b)+np.random.poisson(a) for i in range(1000000)]"
      ],
      "metadata": {
        "id": "Gt4VSekKW1hs"
      },
      "execution_count": 11,
      "outputs": []
    },
    {
      "cell_type": "code",
      "source": [
        "m=max(fixed_points_series)\n",
        "pyplot.hist(fixed_points_series, range = (0, m), bins = m,density=True,color=\"red\",edgecolor=\"red\",label=\"Simulating\")\n",
        "pyplot.hist(New_law, range = (0, m), bins = m,density=True,color=\"white\",edgecolor=\"blue\",label=r'$2*Poi(2\\beta_1^2)+Poi(\\alpha_1^2 + (1-4*\\beta_1^2))$',alpha=0.8)\n",
        "\n",
        "pyplot.legend()\n",
        "pyplot.show()"
      ],
      "metadata": {
        "colab": {
          "base_uri": "https://localhost:8080/",
          "height": 265
        },
        "id": "MU6b20BsXJ2q",
        "outputId": "23ca0e0d-d5bf-4dd0-8065-930aef47c37f"
      },
      "execution_count": 12,
      "outputs": [
        {
          "output_type": "display_data",
          "data": {
            "text/plain": [
              "<Figure size 432x288 with 1 Axes>"
            ],
            "image/png": "[encoded data removed]"
          },
          "metadata": {
            "needs_background": "light"
          }
        }
      ]
    }
  ],
  "metadata": {
    "colab": {
      "provenance": [],
      "collapsed_sections": [
        "FFn_HHlRKrVl"
      ],
      "toc_visible": true,
      "authorship_tag": "ABX9TyPZBKy+x0TElD8C4WkrjN4c",
      "include_colab_link": true
    },
    "kernelspec": {
      "display_name": "Python 3",
      "name": "python3"
    },
    "language_info": {
      "name": "python"
    }
  },
  "nbformat": 4,
  "nbformat_minor": 0
}